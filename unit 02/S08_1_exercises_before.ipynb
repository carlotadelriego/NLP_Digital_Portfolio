{
 "cells": [
  {
   "cell_type": "markdown",
   "metadata": {},
   "source": [
    "# Text classification\n",
    "\n",
    "Using the dataset `dataset_emails.csv` (or other dataset of your choice) create three text classificators:\n",
    "* Using rule-based approach (regex)\n",
    "* Using naive-bayes\n",
    "* Using Spacy 3 \n",
    "\n",
    "Finally, compare the results and show what is better and why. "
   ]
  },
  {
   "cell_type": "code",
   "execution_count": null,
   "metadata": {},
   "outputs": [],
   "source": [
    "import csv\n",
    "import re\n",
    "\n",
    "# Text classification using rule-based approach (regex)\n",
    "with open('dataset_emails.csv', 'r') as file:\n",
    "    reader = csv.reader(file)\n",
    "    for row in reader:\n",
    "        text = row[0]\n",
    "        label = 'unknown'\n",
    "        \n",
    "        # Apply regex patterns to classify the text\n",
    "        if re.search(r'vacation', text):\n",
    "            label = 'vacation-related'\n",
    "        elif re.search(r'pictures', text):\n",
    "            label = 'picture-related'\n",
    "        elif re.search(r'urgent', text):\n",
    "            label = 'urgent'\n",
    "        \n",
    "        # Print the classified text and label\n",
    "        print(f'Text: {text}')\n",
    "        print(f'Label: {label}')\n",
    "        print('---')\n"
   ]
  },
  {
   "cell_type": "code",
   "execution_count": null,
   "metadata": {},
   "outputs": [],
   "source": [
    "from sklearn.naive_bayes import MultinomialNB\n",
    "\n",
    "# Text classification using naive-bayes\n",
    "# Create the classifier\n",
    "classifier = MultinomialNB()\n",
    "\n",
    "# Fit the classifier on the training data\n",
    "classifier.fit(X, y)\n",
    "\n",
    "# Predict the labels for the test data\n",
    "predicted_labels = classifier.predict(X)\n",
    "\n",
    "# Print the predicted labels\n",
    "print(predicted_labels)"
   ]
  },
  {
   "cell_type": "code",
   "execution_count": null,
   "metadata": {},
   "outputs": [],
   "source": [
    "# Text classification using Spacy 3\n",
    "import spacy\n",
    "from spacy.training import Example\n",
    "from spacy.language import Language\n",
    "\n"
   ]
  }
 ],
 "metadata": {
  "kernelspec": {
   "display_name": "uie-aa",
   "language": "python",
   "name": "python3"
  },
  "language_info": {
   "codemirror_mode": {
    "name": "ipython",
    "version": 3
   },
   "file_extension": ".py",
   "mimetype": "text/x-python",
   "name": "python",
   "nbconvert_exporter": "python",
   "pygments_lexer": "ipython3",
   "version": "3.11.8"
  }
 },
 "nbformat": 4,
 "nbformat_minor": 2
}

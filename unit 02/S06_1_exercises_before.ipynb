{
 "cells": [
  {
   "cell_type": "markdown",
   "metadata": {},
   "source": [
    "# Exercises before\n",
    "\n",
    "Create a corpus with phrases and annotate it with positive or negative. Build a very simple sentiment analysis with regex and use corpus to calculate sentiment (positive or negative). Count how many True Positives (TP), False Positives (FP), True Negatives (TN), and False Negatives (FN) you have. Tweet the corpus or the regexp to have non-zero variables. Make the calculations of Precission, Recall, and F1 following the class materials.   "
   ]
  },
  {
   "cell_type": "code",
   "execution_count": 1,
   "metadata": {},
   "outputs": [
    {
     "data": {
      "text/plain": [
       "(3, 0, 3, 0, 1.0, 1.0, 1.0)"
      ]
     },
     "execution_count": 1,
     "metadata": {},
     "output_type": "execute_result"
    }
   ],
   "source": [
    "import re\n",
    "\n",
    "corpus = [\n",
    "    (\"I love this movie!\", \"positive\"),\n",
    "    (\"This is the worst product ever\", \"negative\"),\n",
    "    (\"The food was amazing!\", \"positive\"),\n",
    "    (\"I'm so disappointed with the service.\", \"negative\"),\n",
    "    (\"The concert was fantastic!\", \"positive\"),\n",
    "    (\"Carlos is the worst mate\", \"negative\"),\n",
    "    (\"The best person I have ever met is call Pabs\", \"positive\")\n",
    "]\n",
    "\n",
    "# Build a simple sentiment analysis with regex\n",
    "positive_regex = r'love|amazing|fantastic|outstanding'\n",
    "negative_regex = r'worst|disappointed|terrible|hate'\n",
    "\n",
    "# Calculate sentiment (positive or negative) using the corpus\n",
    "sentiments = []\n",
    "annotations = [label for _, label in corpus]  # Extracting the sentiment labels from corpus\n",
    "\n",
    "for phrase, _ in corpus:\n",
    "    if re.search(positive_regex, phrase, re.IGNORECASE):\n",
    "        sentiments.append('positive')\n",
    "    elif re.search(negative_regex, phrase, re.IGNORECASE):\n",
    "        sentiments.append('negative')\n",
    "    else:\n",
    "        sentiments.append('neutral')\n",
    "\n",
    "# Count True Positives (TP), False Positives (FP), True Negatives (TN), and False Negatives (FN)\n",
    "tp = sum(1 for sentiment, annotation in zip(sentiments, annotations) if sentiment == 'positive' and annotation == 'positive')\n",
    "fp = sum(1 for sentiment, annotation in zip(sentiments, annotations) if sentiment == 'positive' and annotation == 'negative')\n",
    "tn = sum(1 for sentiment, annotation in zip(sentiments, annotations) if sentiment == 'negative' and annotation == 'negative')\n",
    "fn = sum(1 for sentiment, annotation in zip(sentiments, annotations) if sentiment == 'negative' and annotation == 'positive')\n",
    "\n",
    "# Calculate Precision, Recall, and F1\n",
    "precision = tp / (tp + fp) if tp + fp > 0 else 0\n",
    "recall = tp / (tp + fn) if tp + fn > 0 else 0\n",
    "f1 = 2 * (precision * recall) / (precision + recall) if precision + recall > 0 else 0\n",
    "\n",
    "tp, fp, tn, fn, precision, recall, f1\n"
   ]
  }
 ],
 "metadata": {
  "kernelspec": {
   "display_name": "uie-aa",
   "language": "python",
   "name": "python3"
  },
  "language_info": {
   "codemirror_mode": {
    "name": "ipython",
    "version": 3
   },
   "file_extension": ".py",
   "mimetype": "text/x-python",
   "name": "python",
   "nbconvert_exporter": "python",
   "pygments_lexer": "ipython3",
   "version": "3.11.8"
  }
 },
 "nbformat": 4,
 "nbformat_minor": 2
}

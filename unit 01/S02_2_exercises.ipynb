{
 "cells": [
  {
   "cell_type": "markdown",
   "id": "080cade5",
   "metadata": {},
   "source": [
    "# Regular Expressions Exercises\n",
    "\n",
    "**Do not** use any AI help in solving it. "
   ]
  },
  {
   "cell_type": "markdown",
   "id": "1a55b260",
   "metadata": {},
   "source": [
    "### Exercise 0 (Example Solution)\n",
    "Find all occurrences of the word 'Python' (case-sensitive) in a given text."
   ]
  },
  {
   "cell_type": "code",
   "execution_count": 1,
   "id": "daccef60",
   "metadata": {},
   "outputs": [
    {
     "ename": "NameError",
     "evalue": "name 'pattern' is not defined",
     "output_type": "error",
     "traceback": [
      "\u001b[0;31m---------------------------------------------------------------------------\u001b[0m",
      "\u001b[0;31mNameError\u001b[0m                                 Traceback (most recent call last)",
      "Cell \u001b[0;32mIn[1], line 3\u001b[0m\n\u001b[1;32m      1\u001b[0m \u001b[38;5;28;01mimport\u001b[39;00m \u001b[38;5;21;01mre\u001b[39;00m\n\u001b[1;32m      2\u001b[0m text \u001b[38;5;241m=\u001b[39m \u001b[38;5;124m'\u001b[39m\u001b[38;5;124mI love Python because Python is amazing.\u001b[39m\u001b[38;5;124m'\u001b[39m\n\u001b[0;32m----> 3\u001b[0m matches \u001b[38;5;241m=\u001b[39m re\u001b[38;5;241m.\u001b[39mfindall(\u001b[43mpattern\u001b[49m, text)\n\u001b[1;32m      4\u001b[0m \u001b[38;5;28mprint\u001b[39m(\u001b[38;5;124m'\u001b[39m\u001b[38;5;124mMatches found:\u001b[39m\u001b[38;5;124m'\u001b[39m, matches)  \u001b[38;5;66;03m# Expected output: ['Python', 'Python']\u001b[39;00m\n",
      "\u001b[0;31mNameError\u001b[0m: name 'pattern' is not defined"
     ]
    }
   ],
   "source": [
    "import re\n",
    "text = 'I love Python because Python is amazing.'\n",
    "matches = re.findall(pattern, text)\n",
    "print('Matches found:', matches)  # Expected output: ['Python', 'Python']"
   ]
  },
  {
   "cell_type": "markdown",
   "id": "414a4d0c",
   "metadata": {},
   "source": [
    "### Exercise 1\n",
    "Find all occurrences of the word 'Python' (case-sensitive) in a given text."
   ]
  },
  {
   "cell_type": "code",
   "execution_count": 2,
   "id": "20ef5cea",
   "metadata": {},
   "outputs": [
    {
     "name": "stdout",
     "output_type": "stream",
     "text": [
      "Matches found: ['Python', 'Python']\n"
     ]
    }
   ],
   "source": [
    "text = 'I love Python because Python is amazing.'\n",
    "matches = re.findall(r'Python', text)\n",
    "print('Matches found:', matches) "
   ]
  },
  {
   "cell_type": "markdown",
   "id": "ba238748",
   "metadata": {},
   "source": [
    "### Exercise 2\n",
    "Find all sequences of digits in a text."
   ]
  },
  {
   "cell_type": "code",
   "execution_count": 3,
   "id": "f859446c",
   "metadata": {},
   "outputs": [
    {
     "name": "stdout",
     "output_type": "stream",
     "text": [
      "Matches found: ['6', '2025']\n"
     ]
    }
   ],
   "source": [
    "text = 'Today is 6 of February, 2025.'\n",
    "matches = re.findall(r'[0-9]+', text)\n",
    "print('Matches found:', matches) "
   ]
  },
  {
   "cell_type": "markdown",
   "id": "4be8c3c0",
   "metadata": {},
   "source": [
    "### Exercise 3\n",
    "Extract all words that start with a capital letter."
   ]
  },
  {
   "cell_type": "code",
   "execution_count": 4,
   "id": "8f17e6d5",
   "metadata": {},
   "outputs": [
    {
     "name": "stdout",
     "output_type": "stream",
     "text": [
      "Matches found: ['My', 'Carlota', 'Engeneering']\n"
     ]
    }
   ],
   "source": [
    "text = 'My name is Carlota, and I study Engeneering.'\n",
    "matches = re.findall(r'[A-Z]\\w+', text)\n",
    "print('Matches found:', matches)"
   ]
  },
  {
   "cell_type": "markdown",
   "id": "23eaa564",
   "metadata": {},
   "source": [
    "### Exercise 4\n",
    "Match all valid email addresses."
   ]
  },
  {
   "cell_type": "code",
   "execution_count": 6,
   "id": "65011967",
   "metadata": {},
   "outputs": [
    {
     "name": "stdout",
     "output_type": "stream",
     "text": [
      "Matches found: ['carlota.fernandez.01@uie.edu']\n"
     ]
    }
   ],
   "source": [
    "text = 'carlota.fernandez.01@uie.edu, carlotafernandez.01@uie.edu.com, carlota@fernandez.01.uie.edu, carlotafernandez01@edu.uie'\n",
    "matches = re.findall(r'[a-zA-Z]+\\.[a-zA-Z]+\\.\\d{2}@[a-zA-Z]+\\.[a-zA-Z]+', text)\n",
    "print('Matches found:', matches)"
   ]
  },
  {
   "cell_type": "markdown",
   "id": "4dd92f4c",
   "metadata": {},
   "source": [
    "### Exercise 5\n",
    "Find all words that contain at least one digit."
   ]
  },
  {
   "cell_type": "code",
   "execution_count": 7,
   "id": "6b954be1",
   "metadata": {},
   "outputs": [
    {
     "name": "stdout",
     "output_type": "stream",
     "text": [
      "Matches found: ['exercise12', 'exercise13', 'exercise5']\n"
     ]
    }
   ],
   "source": [
    "text = 'Today I have done exercise12 and exercise13, but tomorrow I will finish exercise5'\n",
    "matches = re.findall(r'exercise\\d+', text)\n",
    "print('Matches found:', matches) "
   ]
  },
  {
   "cell_type": "markdown",
   "id": "e6b0495f",
   "metadata": {},
   "source": [
    "### Exercise 6\n",
    "Replace all instances of 'colour' with 'color'."
   ]
  },
  {
   "cell_type": "code",
   "execution_count": 8,
   "id": "f18b5e0b",
   "metadata": {},
   "outputs": [
    {
     "name": "stdout",
     "output_type": "stream",
     "text": [
      "Matches found: I want to paint my room in color beige, but my mom suggests me to paint it in color light-grey.\n"
     ]
    }
   ],
   "source": [
    "text = 'I want to paint my room in colour beige, but my mom suggests me to paint it in colour light-grey.'\n",
    "matches = re.sub(r'colour', 'color', text)\n",
    "print('Matches found:', matches)"
   ]
  },
  {
   "cell_type": "markdown",
   "id": "1dec5414",
   "metadata": {},
   "source": [
    "### Exercise 7\n",
    "Extract all words that are exactly 5 letters long."
   ]
  },
  {
   "cell_type": "code",
   "execution_count": 9,
   "id": "a8e56f29",
   "metadata": {},
   "outputs": [
    {
     "name": "stdout",
     "output_type": "stream",
     "text": [
      "Matches found: ['going', 'class', 'drive', 'coast']\n"
     ]
    }
   ],
   "source": [
    "text = 'Tomorrow I am going to university to attend to my afternoon class, and then I will drive to my coast town.'\n",
    "matches = re.findall(r'\\b[a-zA-Z]{5}\\b', text)\n",
    "print('Matches found:', matches)"
   ]
  },
  {
   "cell_type": "markdown",
   "id": "e8dab707",
   "metadata": {},
   "source": [
    "### Exercise 8\n",
    "Find all dates in the format DD/MM/YYYY or DD-MM-YYYY."
   ]
  },
  {
   "cell_type": "code",
   "execution_count": 10,
   "id": "acb9d89a",
   "metadata": {},
   "outputs": [
    {
     "name": "stdout",
     "output_type": "stream",
     "text": [
      "Matches found: ['08/02/2025', '01-02-2025']\n"
     ]
    }
   ],
   "source": [
    "text = 'This Saturday will be 08/02/2025,but last saturdat was 01-02-2025.'\n",
    "matches_pattern1 = re.findall(r'\\d{2}/\\d{2}/\\d{4}', text)\n",
    "matches_pattern2 = re.findall(r'\\d{2}-\\d{2}-\\d{4}', text)\n",
    "print('Matches found:', matches_pattern1 + matches_pattern2)"
   ]
  },
  {
   "cell_type": "markdown",
   "id": "11000484",
   "metadata": {},
   "source": [
    "### Exercise 9\n",
    "Extract all hashtags from a tweet."
   ]
  },
  {
   "cell_type": "code",
   "execution_count": 11,
   "id": "7c69bd3c",
   "metadata": {},
   "outputs": [
    {
     "name": "stdout",
     "output_type": "stream",
     "text": [
      "Matches found: ['#Productivity', '#CoffeeLover', '#GoodMorning']\n"
     ]
    }
   ],
   "source": [
    "text = 'Enjoying a coffee while working on a new project. #Productivity #CoffeeLover #GoodMorning'\n",
    "matches = re.findall(r\"#\\w+\", text)\n",
    "print('Matches found:', matches)"
   ]
  },
  {
   "cell_type": "markdown",
   "id": "6be1253f",
   "metadata": {},
   "source": [
    "### Exercise 10\n",
    "Match all words that do not contain vowels."
   ]
  },
  {
   "cell_type": "code",
   "execution_count": 12,
   "id": "b7e7fb20",
   "metadata": {},
   "outputs": [
    {
     "name": "stdout",
     "output_type": "stream",
     "text": [
      "Matches found: [' myths ', ' crypts, ', ' shy ', ' fly']\n"
     ]
    }
   ],
   "source": [
    "text = 'Strange myths twist crypts, and shy birds fly.'\n",
    "matches = re.findall(r'\\b[^aeiouAEIOU]+\\b', text)\n",
    "print('Matches found:', matches)"
   ]
  },
  {
   "cell_type": "markdown",
   "id": "86209e2f",
   "metadata": {},
   "source": [
    "### Exercise 11\n",
    "Find all words that start with 'pre' and are at least 6 characters long."
   ]
  },
  {
   "cell_type": "code",
   "execution_count": 13,
   "id": "b8397027",
   "metadata": {},
   "outputs": [
    {
     "name": "stdout",
     "output_type": "stream",
     "text": [
      "Matches found: ['preview', 'precise', 'prevent']\n"
     ]
    }
   ],
   "source": [
    "text = 'The preview showed a precise method to prevent common issues in public projects.'\n",
    "matches = re.findall(r'\\bpre\\w{3,}\\b', text)\n",
    "print('Matches found:', matches)"
   ]
  },
  {
   "cell_type": "markdown",
   "id": "583eea14",
   "metadata": {},
   "source": [
    "### Exercise 12\n",
    "Validate a password with at least one uppercase, one lowercase, one digit, and at least 8 characters."
   ]
  },
  {
   "cell_type": "code",
   "execution_count": 24,
   "id": "365097d9",
   "metadata": {},
   "outputs": [
    {
     "name": "stdout",
     "output_type": "stream",
     "text": [
      "Is the password valid? True\n"
     ]
    }
   ],
   "source": [
    "# ia help\n",
    "password = 'Carlota123'\n",
    "pattern = r'^(?=.*[a-z])(?=.*[A-Z])(?=.*\\d).{8,}$'\n",
    "is_valid = re.match(pattern, password) is not None\n",
    "\n",
    "print('Is the password valid?', is_valid)"
   ]
  },
  {
   "cell_type": "code",
   "execution_count": 22,
   "id": "f34cc26d",
   "metadata": {},
   "outputs": [
    {
     "name": "stdout",
     "output_type": "stream",
     "text": [
      "Matches found: ['Carlota123 carlota 123carlota Carlota']\n"
     ]
    }
   ],
   "source": [
    "# Your solution here - not completed (help ia)\n",
    "text = 'Carlota123 carlota 123carlota Carlota'\n",
    "matches = re.findall(r'^(?=.*[a-z])(?=.*[A-Z])(?=.*\\d).{8,}$', text)\n",
    "print('Matches found:', matches)"
   ]
  },
  {
   "cell_type": "markdown",
   "id": "97538535",
   "metadata": {},
   "source": [
    "### Exercise 13\n",
    "Find all repeated words in a text (e.g., 'the the')."
   ]
  },
  {
   "cell_type": "code",
   "execution_count": 27,
   "id": "df995e03",
   "metadata": {},
   "outputs": [
    {
     "name": "stdout",
     "output_type": "stream",
     "text": [
      "Matches found: ['the']\n"
     ]
    }
   ],
   "source": [
    "# Your solution here\n",
    "text = 'The the boy is playing with the ball in the the yard'\n",
    "matches = re.findall(r'\\b(\\w+)\\b.*\\b\\1\\b', text)\n",
    "print('Matches found:', matches)"
   ]
  },
  {
   "cell_type": "markdown",
   "id": "48795d4b",
   "metadata": {},
   "source": [
    "### Exercise 14\n",
    "Extract all domain names from URLs."
   ]
  },
  {
   "cell_type": "code",
   "execution_count": null,
   "id": "d9100f6b",
   "metadata": {},
   "outputs": [],
   "source": [
    "# Your solution here\n"
   ]
  },
  {
   "cell_type": "markdown",
   "id": "e0df8900",
   "metadata": {},
   "source": [
    "### Exercise 15\n",
    "Validate a properly formatted IPv4 address."
   ]
  },
  {
   "cell_type": "code",
   "execution_count": null,
   "id": "3d10c972",
   "metadata": {},
   "outputs": [],
   "source": [
    "# Your solution here\n"
   ]
  },
  {
   "cell_type": "markdown",
   "id": "5ee9de3c",
   "metadata": {},
   "source": [
    "### Exercise 16\n",
    "Match all valid Twitter handles."
   ]
  },
  {
   "cell_type": "code",
   "execution_count": 51,
   "id": "067273f2",
   "metadata": {},
   "outputs": [
    {
     "name": "stdout",
     "output_type": "stream",
     "text": [
      "Matches found: ['carlota24', 'OpenAI', 'uie', 'hello_world']\n"
     ]
    }
   ],
   "source": [
    "# Your solution here\n",
    "text = \"Follow @carlota24 and @OpenAI! Also, check out @uie.edu and @hello_world\"\n",
    "matches = re.findall(r'@([A-Za-z0-9_]{1,15})', text)\n",
    "print('Matches found:', matches)"
   ]
  },
  {
   "cell_type": "markdown",
   "id": "a52f75df",
   "metadata": {},
   "source": [
    "### Exercise 17\n",
    "Find all numbers written in words (e.g., 'one', 'two', 'three')."
   ]
  },
  {
   "cell_type": "code",
   "execution_count": 37,
   "id": "e7921979",
   "metadata": {},
   "outputs": [
    {
     "name": "stdout",
     "output_type": "stream",
     "text": [
      "Matches found: ['one', 'three']\n"
     ]
    }
   ],
   "source": [
    "# Your solution here\n",
    "text = 'one of my favourites writer has written three books about the history of the world.'\n",
    "matches = re.findall(r'\\b(one|two|three|four|five|six|seven|eight|nine|ten)\\b', text)\n",
    "print('Matches found:', matches)"
   ]
  },
  {
   "cell_type": "markdown",
   "id": "8ef40dca",
   "metadata": {},
   "source": [
    "### Exercise 18\n",
    "Find all words that contain double letters."
   ]
  },
  {
   "cell_type": "code",
   "execution_count": 48,
   "id": "98f58929",
   "metadata": {},
   "outputs": [
    {
     "name": "stdout",
     "output_type": "stream",
     "text": [
      "Matches found: ['o']\n"
     ]
    }
   ],
   "source": [
    "# Your solution here\n",
    "text = 'The cat is on the mat, and the mat is on the floor.'\n",
    "matches = re.findall(r'\\b\\w*(\\w)\\1\\w*\\b', text)\n",
    "print('Matches found:', matches)"
   ]
  },
  {
   "cell_type": "markdown",
   "id": "927b93e2",
   "metadata": {},
   "source": [
    "### Exercise 19\n",
    "Extract quoted text from a sentence."
   ]
  },
  {
   "cell_type": "code",
   "execution_count": null,
   "id": "3ff0911d",
   "metadata": {},
   "outputs": [],
   "source": [
    "# Your solution here\n"
   ]
  },
  {
   "cell_type": "markdown",
   "id": "9d8c7695",
   "metadata": {},
   "source": [
    "### Exercise 20\n",
    "Match sentences ending with a question mark."
   ]
  },
  {
   "cell_type": "code",
   "execution_count": 49,
   "id": "4435c171",
   "metadata": {},
   "outputs": [
    {
     "name": "stdout",
     "output_type": "stream",
     "text": [
      "Matches found: ['where is the cat?']\n"
     ]
    }
   ],
   "source": [
    "# Your solution here\n",
    "text = 'where is the cat?'\n",
    "matches = re.findall(r'[^.!?]*\\?',text)\n",
    "print('Matches found:', matches)"
   ]
  }
 ],
 "metadata": {
  "kernelspec": {
   "display_name": "uie-aa",
   "language": "python",
   "name": "python3"
  },
  "language_info": {
   "codemirror_mode": {
    "name": "ipython",
    "version": 3
   },
   "file_extension": ".py",
   "mimetype": "text/x-python",
   "name": "python",
   "nbconvert_exporter": "python",
   "pygments_lexer": "ipython3",
   "version": "3.11.9"
  }
 },
 "nbformat": 4,
 "nbformat_minor": 5
}

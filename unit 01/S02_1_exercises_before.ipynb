{
 "cells": [
  {
   "cell_type": "markdown",
   "metadata": {},
   "source": [
    "# Exercises start\n",
    "\n",
    "Please solve this exercises. Do it **WITHOUT ANY AI HELP**."
   ]
  },
  {
   "cell_type": "code",
   "execution_count": 1,
   "metadata": {},
   "outputs": [],
   "source": [
    "# Exercise 1: Make Plurals\n",
    "# Write a program to generate plural forms of English nouns from a given list of singular nouns.\n",
    "# Simplification rules:\n",
    "# 1. Add 's' to most words (e.g., \"cat\" -> \"cats\").\n",
    "# 2. If the word ends with 'y' and is preceded by a consonant, replace 'y' with 'ies' (e.g., \"baby\" -> \"babies\").\n",
    "# 3. If the word ends with 'f' or 'fe', replace it with 'ves' (e.g., \"wolf\" -> \"wolves\").\n",
    "# 4. Add 'es' to words ending in 's', 'x', 'z', 'ch', or 'sh' (e.g., \"box\" -> \"boxes\").\n",
    "# 5. For irregular nouns, handle exceptions (e.g., \"child\" -> \"children\", \"man\" -> \"men\").\n",
    "\n",
    "nouns = [\"cat\", \"baby\", \"wolf\", \"box\", \"child\", \"man\", \"mouse\", \"knife\", \"bush\"]"
   ]
  },
  {
   "cell_type": "code",
   "execution_count": 2,
   "metadata": {},
   "outputs": [
    {
     "name": "stdout",
     "output_type": "stream",
     "text": [
      "['cats', 'babies', 'woves', 'boxes', 'children', 'men', 'mouses', 'knives', 'bushes']\n"
     ]
    }
   ],
   "source": [
    "import re\n",
    "def generate_plural(nouns):\n",
    "    plural = []\n",
    "    irregular_nouns = {\n",
    "        \"child\": \"children\",\n",
    "        \"man\": \"men\"\n",
    "    }\n",
    "\n",
    "    for noun in nouns:\n",
    "        if noun in irregular_nouns:\n",
    "            plural.append(irregular_nouns[noun])\n",
    "        elif noun.endswith(\"y\") and noun[-2] not in \"aeiou\":\n",
    "            plural.append(noun[:-1] + \"ies\")\n",
    "        elif noun.endswith((\"f\", \"fe\")):\n",
    "            plural.append(noun[:-2] + \"ves\")\n",
    "        elif noun.endswith((\"s\", \"x\", \"z\", \"ch\", \"sh\")):\n",
    "            plural.append(noun + \"es\")\n",
    "        else:\n",
    "            plural.append(noun + \"s\")\n",
    "    return plural\n",
    "\n",
    "print(generate_plural(nouns))   "
   ]
  },
  {
   "cell_type": "code",
   "execution_count": 3,
   "metadata": {},
   "outputs": [],
   "source": [
    "# Exercise 2: Extract Email Addresses\n",
    "# Write a Python program to extract all email addresses from the following string.\n",
    "text = \"Please contact us at support@example.com, sales@example.org, or admin123@example.net for assistance.\""
   ]
  },
  {
   "cell_type": "code",
   "execution_count": 4,
   "metadata": {},
   "outputs": [
    {
     "name": "stdout",
     "output_type": "stream",
     "text": [
      "Matches found: ['support@example.com', 'sales@example.org', 'admin123@example.net']\n"
     ]
    }
   ],
   "source": [
    "# i have done the regular expression before on a paper to look at the combination of numbers and letters\n",
    "matches = re.findall(r\"[a-zA-Z0-9_.+-]+@[a-zA-Z0-9-]+\\.[a-zA-Z0-9-.]+\", text)\n",
    "print('Matches found:', matches)"
   ]
  },
  {
   "cell_type": "code",
   "execution_count": 5,
   "metadata": {},
   "outputs": [],
   "source": [
    "# Exercise 3: Extract Hashtags\n",
    "# From a tweet, extract all valid hashtags.\n",
    "tweet = \"Loving the #sunset at the #beach! But #123abc and ##double are #invalid#tags.\""
   ]
  },
  {
   "cell_type": "code",
   "execution_count": 6,
   "metadata": {},
   "outputs": [
    {
     "name": "stdout",
     "output_type": "stream",
     "text": [
      "Matches found: ['#sunset', '#beach', '#123abc', '#double', '#invalid', '#tags']\n"
     ]
    }
   ],
   "source": [
    "# i have done the regular expression before on a paper to look at the combination of numbers and letters\n",
    "matches = re.findall(r\"#\\w+\", tweet)\n",
    "print('Matches found:', matches)"
   ]
  }
 ],
 "metadata": {
  "kernelspec": {
   "display_name": "Python 3",
   "language": "python",
   "name": "python3"
  },
  "language_info": {
   "codemirror_mode": {
    "name": "ipython",
    "version": 3
   },
   "file_extension": ".py",
   "mimetype": "text/x-python",
   "name": "python",
   "nbconvert_exporter": "python",
   "pygments_lexer": "ipython3",
   "version": "3.11.9"
  }
 },
 "nbformat": 4,
 "nbformat_minor": 2
}

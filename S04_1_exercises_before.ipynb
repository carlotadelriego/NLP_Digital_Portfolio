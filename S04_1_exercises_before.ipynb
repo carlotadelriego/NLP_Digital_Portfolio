{
 "cells": [
  {
   "cell_type": "markdown",
   "metadata": {},
   "source": [
    "# Tokenization\n",
    "\n",
    "Split a text into words."
   ]
  },
  {
   "cell_type": "code",
   "execution_count": 3,
   "metadata": {},
   "outputs": [
    {
     "name": "stdout",
     "output_type": "stream",
     "text": [
      "que: 641\n",
      "de: 592\n",
      "e: 450\n",
      "á: 445\n",
      "qu: 371\n",
      "d: 323\n",
      "ó: 301\n",
      "os: 241\n",
      "as: 236\n",
      "_: 220\n",
      "en: 209\n",
      "por: 188\n",
      "non: 186\n",
      "un: 184\n",
      "y: 178\n",
      "the: 178\n",
      "con: 154\n",
      "se: 152\n",
      "tan: 151\n",
      "a: 142\n"
     ]
    }
   ],
   "source": [
    "from collections import Counter\n",
    "import re\n",
    "\n",
    "# 1 Exercise: Split the file cantares_gallegos.txt into words.\n",
    "with open('cantares_gallegos.txt', 'r') as file:\n",
    "    text = file.read()\n",
    "\n",
    "words = text.split()\n",
    "words = re.findall(r'\\b\\w+\\b', text.lower())\n",
    "\n",
    "# 2 Exercise: Count the number of ocurrences of each word in the file cantares_gallegos.txt.\n",
    "word_counts = Counter(words)\n",
    "\n",
    "# 3 Exercise: Order the words by number of ocurrences in the file cantares_gallegos.txt and print the 20 most common words.\n",
    "most_common_words = word_counts.most_common(20)\n",
    "\n",
    "for word, count in most_common_words:\n",
    "    print(f'{word}: {count}')"
   ]
  }
 ],
 "metadata": {
  "kernelspec": {
   "display_name": "Python 3",
   "language": "python",
   "name": "python3"
  },
  "language_info": {
   "codemirror_mode": {
    "name": "ipython",
    "version": 3
   },
   "file_extension": ".py",
   "mimetype": "text/x-python",
   "name": "python",
   "nbconvert_exporter": "python",
   "pygments_lexer": "ipython3",
   "version": "3.11.9"
  }
 },
 "nbformat": 4,
 "nbformat_minor": 2
}

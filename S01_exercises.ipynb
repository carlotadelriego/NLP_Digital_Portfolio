{
 "cells": [
  {
   "cell_type": "markdown",
   "metadata": {},
   "source": [
    "# Python exercises related with NLP\n",
    "\n",
    "This is a level test exercise. The purpose is to get your level in python programming oriented to NLP. \n",
    "\n",
    "Solve (and test) the next exercises in the block below each topic. **Use your python expertise and official python manual ONLY**: [https://docs.python.org/3/](https://docs.python.org/3/). The teachers are on the classroom to help.\n"
   ]
  },
  {
   "cell_type": "markdown",
   "metadata": {},
   "source": [
    "## Topic 1: Working with Strings\n",
    "\n",
    "1. Write a program that takes a string input from the user and prints the length of the string.\n",
    "2. Create a program that converts a given string to uppercase.\n",
    "3. Write a function that checks if a string contains only alphabets.\n",
    "4. Reverse a string without using slicing (e.g., string[::-1]).\n",
    "5. Count how many times a specific character appears in a string.\n",
    "6. Write a function that takes two strings and checks if they are anagrams.\n",
    "7. Implement a function that removes all vowels from a given string.\n",
    "8. Write a function that checks if a string is a palindrome (case-insensitive).\n",
    "9. Given a string, return the first non-repeating character.\n",
    "10. Create a function that capitalizes the first letter of each word in a string.\n",
    "11. Write a program to compress a string (e.g., \"aaabb\" -> \"a3b2\").\n",
    "12. Implement a function to find the longest substring without repeating characters.\n",
    "13. Write a program to check if a string can be rearranged into a palindrome.\n",
    "14. Implement a function that removes all duplicates from a string while preserving the order of characters.\n",
    "15. Write a function to find the longest common prefix among a list of strings.\n",
    "16. Implement a custom `split` function without using Python's built-in methods.\n",
    "17. Write a function to decode a given run-length encoded string (e.g., \"a3b2\" -> \"aaabb\").\n",
    "18. Implement a function to check if one string is a rotation of another.\n",
    "19. Create a function to find all permutations of a given string.\n",
    "20. Write a function to implement a basic version of the `str.index` method."
   ]
  },
  {
   "cell_type": "code",
   "execution_count": 92,
   "metadata": {},
   "outputs": [
    {
     "name": "stdout",
     "output_type": "stream",
     "text": [
      "The length of the string is:  0\n"
     ]
    }
   ],
   "source": [
    "user_input = input(\"Enter a string: \")\n",
    "string_length = len(user_input)\n",
    "print(\"The length of the string is: \", string_length)"
   ]
  },
  {
   "cell_type": "code",
   "execution_count": 93,
   "metadata": {},
   "outputs": [
    {
     "name": "stdout",
     "output_type": "stream",
     "text": [
      "HELLO\n"
     ]
    }
   ],
   "source": [
    "string = \"hello\"\n",
    "uppercase_string = string.upper()\n",
    "print(uppercase_string)"
   ]
  },
  {
   "cell_type": "code",
   "execution_count": 94,
   "metadata": {},
   "outputs": [
    {
     "name": "stdout",
     "output_type": "stream",
     "text": [
      "True\n"
     ]
    }
   ],
   "source": [
    "def check_alphabets(string):\n",
    "    return string.isalpha()\n",
    "print(check_alphabets(\"hello\"))"
   ]
  },
  {
   "cell_type": "code",
   "execution_count": 95,
   "metadata": {},
   "outputs": [
    {
     "name": "stdout",
     "output_type": "stream",
     "text": [
      "olleh\n"
     ]
    }
   ],
   "source": [
    "string = \"hello\"\n",
    "def reverse_string(string):\n",
    "    reversed_string = \"\"\n",
    "    for i in string:\n",
    "        reversed_string = i + reversed_string\n",
    "    return reversed_string\n",
    "\n",
    "print(reverse_string(string))"
   ]
  },
  {
   "cell_type": "code",
   "execution_count": 96,
   "metadata": {},
   "outputs": [
    {
     "name": "stdout",
     "output_type": "stream",
     "text": [
      "2\n"
     ]
    }
   ],
   "source": [
    "string = 'hello'\n",
    "character = 'l'\n",
    "count = string.count(character)\n",
    "print(count)"
   ]
  },
  {
   "cell_type": "code",
   "execution_count": 97,
   "metadata": {},
   "outputs": [
    {
     "name": "stdout",
     "output_type": "stream",
     "text": [
      "False\n"
     ]
    }
   ],
   "source": [
    "string1 = \"hello\"\n",
    "string2 = \"world\"\n",
    "\n",
    "def check_anagram(string1, string2):\n",
    "    return sorted(string1) == sorted(string2)\n",
    "print(check_anagram(\"hello\", \"world\"))"
   ]
  },
  {
   "cell_type": "code",
   "execution_count": 98,
   "metadata": {},
   "outputs": [
    {
     "name": "stdout",
     "output_type": "stream",
     "text": [
      "Hll\n"
     ]
    }
   ],
   "source": [
    "def remove_vowels(string):\n",
    "    vowels = 'aeiouAEIOU'\n",
    "    return ''.join([char for char in string if char not in vowels])\n",
    "\n",
    "string = \"Hello\"\n",
    "result = remove_vowels(string)\n",
    "print(result)"
   ]
  },
  {
   "cell_type": "code",
   "execution_count": 99,
   "metadata": {},
   "outputs": [
    {
     "name": "stdout",
     "output_type": "stream",
     "text": [
      "True\n"
     ]
    }
   ],
   "source": [
    "string = 'somos'\n",
    "def check_palindrome(string):\n",
    "    return string == string[::-1]\n",
    "print(check_palindrome(string))"
   ]
  },
  {
   "cell_type": "code",
   "execution_count": 100,
   "metadata": {},
   "outputs": [
    {
     "name": "stdout",
     "output_type": "stream",
     "text": [
      "l\n"
     ]
    }
   ],
   "source": [
    "string =\"aaltea\"\n",
    "def first_non_repeating_character(string):\n",
    "    for i in string:\n",
    "        if string.count(i) == 1:\n",
    "            return i\n",
    "    return None\n",
    "print(first_non_repeating_character(string))"
   ]
  },
  {
   "cell_type": "code",
   "execution_count": 101,
   "metadata": {},
   "outputs": [
    {
     "name": "stdout",
     "output_type": "stream",
     "text": [
      "Hello World\n"
     ]
    }
   ],
   "source": [
    "string = \"hello world\"\n",
    "def capitalize_first_letter(string):\n",
    "    return string.title()\n",
    "print(capitalize_first_letter(string))"
   ]
  },
  {
   "cell_type": "code",
   "execution_count": 102,
   "metadata": {},
   "outputs": [],
   "source": [
    "string = \"aaabb\""
   ]
  },
  {
   "cell_type": "code",
   "execution_count": 103,
   "metadata": {},
   "outputs": [],
   "source": [
    "substring = \"abcabcbb\""
   ]
  },
  {
   "cell_type": "code",
   "execution_count": 104,
   "metadata": {},
   "outputs": [
    {
     "name": "stdout",
     "output_type": "stream",
     "text": [
      "False\n"
     ]
    }
   ],
   "source": [
    "def can_rearrange_as_palindrome(string):\n",
    "    odd_count = 0\n",
    "    for i in set(string):\n",
    "        if string.count(i) % 2 != 0:\n",
    "            odd_count += 1\n",
    "        if odd_count > 1:\n",
    "            return False\n",
    "    pass\n",
    "\n",
    "string = \"hello\"\n",
    "print(can_rearrange_as_palindrome(string))"
   ]
  },
  {
   "cell_type": "code",
   "execution_count": 105,
   "metadata": {},
   "outputs": [
    {
     "name": "stdout",
     "output_type": "stream",
     "text": [
      "olhe\n"
     ]
    }
   ],
   "source": [
    "string = \"hello\"\n",
    "def remove_duplicates(string):\n",
    "    return ''.join(set(string))\n",
    "print(remove_duplicates(string))"
   ]
  },
  {
   "cell_type": "code",
   "execution_count": 106,
   "metadata": {},
   "outputs": [
    {
     "name": "stdout",
     "output_type": "stream",
     "text": [
      "fl\n"
     ]
    }
   ],
   "source": [
    "def find_longest_common_prefix(strings):\n",
    "    if not strings:\n",
    "        return \"\"\n",
    "    shortest_string = min(strings, key=len)\n",
    "    for i, char in enumerate(shortest_string):\n",
    "        for string in strings:\n",
    "            if string[i] != char:\n",
    "                return shortest_string[:i]\n",
    "    return shortest_string\n",
    "\n",
    "strings = [\"flower\", \"flow\", \"flight\"]\n",
    "longest_common_prefix = find_longest_common_prefix(strings)\n",
    "print(longest_common_prefix)"
   ]
  },
  {
   "cell_type": "code",
   "execution_count": 107,
   "metadata": {},
   "outputs": [],
   "source": [
    "# 16. Implement a custom `split` function without using Python's built-in methods."
   ]
  },
  {
   "cell_type": "code",
   "execution_count": 108,
   "metadata": {},
   "outputs": [
    {
     "name": "stdout",
     "output_type": "stream",
     "text": [
      "aaabb\n"
     ]
    }
   ],
   "source": [
    "string = \"a3b2\"\n",
    "def write_full_word(string):\n",
    "    result = \"\"\n",
    "    for i in range(0, len(string), 2):\n",
    "        result += string[i] * int(string[i+1])\n",
    "    return result\n",
    "print(write_full_word(string))"
   ]
  },
  {
   "cell_type": "code",
   "execution_count": 109,
   "metadata": {},
   "outputs": [
    {
     "name": "stdout",
     "output_type": "stream",
     "text": [
      "True\n"
     ]
    }
   ],
   "source": [
    "string1 = \"hola\"\n",
    "string2 = \"olah\"\n",
    "def check_rotation(string1, string2):\n",
    "    if len(string1) != len(string2):\n",
    "        return False\n",
    "    return string1 in string2 + string2\n",
    "print(check_rotation(string1, string2))"
   ]
  },
  {
   "cell_type": "code",
   "execution_count": 110,
   "metadata": {},
   "outputs": [
    {
     "name": "stdout",
     "output_type": "stream",
     "text": [
      "['hello', 'helol', 'hello', 'helol', 'heoll', 'heoll', 'hlelo', 'hleol', 'hlleo', 'hlloe', 'hloel', 'hlole', 'hlelo', 'hleol', 'hlleo', 'hlloe', 'hloel', 'hlole', 'hoell', 'hoell', 'holel', 'holle', 'holel', 'holle', 'ehllo', 'ehlol', 'ehllo', 'ehlol', 'eholl', 'eholl', 'elhlo', 'elhol', 'ellho', 'elloh', 'elohl', 'elolh', 'elhlo', 'elhol', 'ellho', 'elloh', 'elohl', 'elolh', 'eohll', 'eohll', 'eolhl', 'eollh', 'eolhl', 'eollh', 'lhelo', 'lheol', 'lhleo', 'lhloe', 'lhoel', 'lhole', 'lehlo', 'lehol', 'lelho', 'leloh', 'leohl', 'leolh', 'llheo', 'llhoe', 'lleho', 'lleoh', 'llohe', 'lloeh', 'lohel', 'lohle', 'loehl', 'loelh', 'lolhe', 'loleh', 'lhelo', 'lheol', 'lhleo', 'lhloe', 'lhoel', 'lhole', 'lehlo', 'lehol', 'lelho', 'leloh', 'leohl', 'leolh', 'llheo', 'llhoe', 'lleho', 'lleoh', 'llohe', 'lloeh', 'lohel', 'lohle', 'loehl', 'loelh', 'lolhe', 'loleh', 'ohell', 'ohell', 'ohlel', 'ohlle', 'ohlel', 'ohlle', 'oehll', 'oehll', 'oelhl', 'oellh', 'oelhl', 'oellh', 'olhel', 'olhle', 'olehl', 'olelh', 'ollhe', 'olleh', 'olhel', 'olhle', 'olehl', 'olelh', 'ollhe', 'olleh']\n"
     ]
    }
   ],
   "source": [
    "import itertools\n",
    "string = \"hello\"\n",
    "def find_permutations(string):\n",
    "    permutations = [''.join(p) for p in itertools.permutations(string)]\n",
    "    return permutations\n",
    "print(find_permutations(string))"
   ]
  },
  {
   "cell_type": "code",
   "execution_count": 111,
   "metadata": {},
   "outputs": [
    {
     "name": "stdout",
     "output_type": "stream",
     "text": [
      "7\n"
     ]
    }
   ],
   "source": [
    "def basic_index(string, substring):\n",
    "    try:\n",
    "        return string.index(substring)\n",
    "    except ValueError:\n",
    "        return -1\n",
    "\n",
    "string = \"Hello, World!\"\n",
    "substring = \"World\"\n",
    "index = basic_index(string, substring)\n",
    "print(index)"
   ]
  },
  {
   "cell_type": "markdown",
   "metadata": {},
   "source": [
    "## Topic 2: Working with Dictionaries and Other Data Structures\n",
    "\n",
    "1. Create a dictionary to store the squares of numbers from 1 to 10.\n",
    "2. Write a program to merge two dictionaries.\n",
    "3. Implement a function to count the occurrences of each word in a given sentence.\n",
    "4. Create a dictionary from two lists: one for keys and one for values.\n",
    "5. Write a program to check if a given key exists in a dictionary.\n",
    "6. Implement a function to invert a dictionary (swap keys and values).\n",
    "7. Write a program to find the key with the highest value in a dictionary.\n",
    "8. Implement a function to sort a dictionary by its values.\n",
    "9. Write a program to remove all duplicate values from a list.\n",
    "10. Create a set containing unique elements from a list.\n",
    "11. Implement a function to find the intersection of two sets.\n",
    "12. Write a program to check if one set is a subset of another.\n",
    "13. Implement a function to find the union of two dictionaries.\n",
    "14. Write a program to flatten a nested list.\n",
    "15. Create a function to find the most frequent element in a list.\n",
    "16. Implement a stack using a list with push and pop operations.\n",
    "17. Write a program to check if a given list is a palindrome.\n",
    "18. Implement a queue using a list with enqueue and dequeue operations.\n",
    "19. Write a program to convert a list of tuples into a dictionary.\n",
    "20. Create a function to find the common elements in two lists.\n"
   ]
  },
  {
   "cell_type": "code",
   "execution_count": 112,
   "metadata": {},
   "outputs": [
    {
     "name": "stdout",
     "output_type": "stream",
     "text": [
      "{1: 1, 2: 4, 3: 9, 4: 16, 5: 25, 6: 36, 7: 49, 8: 64, 9: 81, 10: 100}\n"
     ]
    }
   ],
   "source": [
    "square = {num: num**2 for num in range(1, 11)}\n",
    "print(square)"
   ]
  },
  {
   "cell_type": "code",
   "execution_count": 113,
   "metadata": {},
   "outputs": [
    {
     "name": "stdout",
     "output_type": "stream",
     "text": [
      "{1: 10, 2: 20, 3: 30, 4: 40}\n"
     ]
    }
   ],
   "source": [
    "dict1 = {1: 10, 2: 20}\n",
    "dict2 = {3: 30, 4: 40}\n",
    "\n",
    "merged_dict = {**dict1, **dict2}\n",
    "print(merged_dict)"
   ]
  },
  {
   "cell_type": "code",
   "execution_count": 114,
   "metadata": {},
   "outputs": [
    {
     "name": "stdout",
     "output_type": "stream",
     "text": [
      "{'hello': 2, 'world;': 1, 'today': 1, 'is': 1, 'Blue': 1, 'Monday': 1}\n"
     ]
    }
   ],
   "source": [
    "sentence = \"hello world; hello today is Blue Monday\"\n",
    "def count_ocurrences(sentence):\n",
    "    words = sentence.split()\n",
    "    word_count = {}\n",
    "    for word in words:\n",
    "        word_count[word] = word_count.get(word, 0) + 1\n",
    "    return word_count\n",
    "print(count_ocurrences(sentence))"
   ]
  },
  {
   "cell_type": "code",
   "execution_count": 115,
   "metadata": {},
   "outputs": [
    {
     "name": "stdout",
     "output_type": "stream",
     "text": [
      "{1: 'apple', 2: 'banana', 3: 'orange'}\n"
     ]
    }
   ],
   "source": [
    "keys = [1, 2, 3]\n",
    "values = ['apple', 'banana', 'orange']\n",
    "\n",
    "dictionary = dict(zip(keys, values))\n",
    "print(dictionary)"
   ]
  },
  {
   "cell_type": "code",
   "execution_count": 116,
   "metadata": {},
   "outputs": [
    {
     "name": "stdout",
     "output_type": "stream",
     "text": [
      "True\n"
     ]
    }
   ],
   "source": [
    "def check_key(dictionary, key):\n",
    "    if key in dictionary:\n",
    "        return True\n",
    "    else:\n",
    "        return False\n",
    "\n",
    "key = 3\n",
    "exists = check_key(dictionary, key)\n",
    "print(exists)"
   ]
  },
  {
   "cell_type": "code",
   "execution_count": 117,
   "metadata": {},
   "outputs": [
    {
     "name": "stdout",
     "output_type": "stream",
     "text": [
      "{'apple': 1, 'banana': 2, 'orange': 3}\n"
     ]
    }
   ],
   "source": [
    "dictionary = {1: 'apple', 2: 'banana', 3: 'orange'}\n",
    "def invert_dictionary(dictionary):\n",
    "    return {value: key for key, value in dictionary.items()}\n",
    "print(invert_dictionary(dictionary))"
   ]
  },
  {
   "cell_type": "code",
   "execution_count": 118,
   "metadata": {},
   "outputs": [
    {
     "name": "stdout",
     "output_type": "stream",
     "text": [
      "3\n"
     ]
    }
   ],
   "source": [
    "dictionary = {1: 10, 2: 20, 3: 30}\n",
    "def find_highest_value(dictionary):\n",
    "    return max(dictionary, key=dictionary.get)\n",
    "print(find_highest_value(dictionary))"
   ]
  },
  {
   "cell_type": "code",
   "execution_count": 119,
   "metadata": {},
   "outputs": [],
   "source": [
    "def sort_dictionary_by_values(dictionary):\n",
    "    sorted_dict = dict(sorted(dictionary.items(), key=lambda item: item[1]))\n",
    "    return sorted_dict"
   ]
  },
  {
   "cell_type": "code",
   "execution_count": 120,
   "metadata": {},
   "outputs": [
    {
     "name": "stdout",
     "output_type": "stream",
     "text": [
      "[1, 2, 3, 4, 5]\n"
     ]
    }
   ],
   "source": [
    "my_list = [1, 2, 3, 2, 4, 1, 5, 3]\n",
    "unique_list = list(set(my_list))\n",
    "print(unique_list)"
   ]
  },
  {
   "cell_type": "code",
   "execution_count": 121,
   "metadata": {},
   "outputs": [
    {
     "name": "stdout",
     "output_type": "stream",
     "text": [
      "{1, 2, 3, 4, 5}\n"
     ]
    }
   ],
   "source": [
    "my_list = [1, 2, 3, 2, 4, 1, 5, 3]\n",
    "unique_set = set(my_list)\n",
    "print(unique_set)"
   ]
  },
  {
   "cell_type": "code",
   "execution_count": 122,
   "metadata": {},
   "outputs": [
    {
     "name": "stdout",
     "output_type": "stream",
     "text": [
      "{3, 4, 5}\n"
     ]
    }
   ],
   "source": [
    "set1= {1, 2, 3, 4, 5}\n",
    "set2= {3, 4, 5, 6, 7}\n",
    "intersection= set1.intersection(set2)\n",
    "print(intersection)"
   ]
  },
  {
   "cell_type": "code",
   "execution_count": 123,
   "metadata": {},
   "outputs": [
    {
     "name": "stdout",
     "output_type": "stream",
     "text": [
      "False\n"
     ]
    }
   ],
   "source": [
    "set1= {1, 2, 3, 4, 5}\n",
    "set2= {3, 4, 5, 6, 7}\n",
    "check_subset= set1.issubset(set2)\n",
    "print(check_subset)"
   ]
  },
  {
   "cell_type": "code",
   "execution_count": 124,
   "metadata": {},
   "outputs": [
    {
     "name": "stdout",
     "output_type": "stream",
     "text": [
      "{1: 'apple', 2: 'banana', 3: 'orange', 4: 'grapes', 5: 'kiwi'}\n"
     ]
    }
   ],
   "source": [
    "dict1 = {1: 'apple', 2: 'banana', 3: 'orange'}\n",
    "dict2 = {3: 'orange', 4: 'grapes', 5: 'kiwi'}\n",
    "union_dict = {**dict1, **dict2}\n",
    "print(union_dict)"
   ]
  },
  {
   "cell_type": "code",
   "execution_count": 125,
   "metadata": {},
   "outputs": [],
   "source": [
    "# 14. Write a program to flatten a nested list."
   ]
  },
  {
   "cell_type": "code",
   "execution_count": 126,
   "metadata": {},
   "outputs": [
    {
     "name": "stdout",
     "output_type": "stream",
     "text": [
      "2\n"
     ]
    }
   ],
   "source": [
    "list1 = [1,2,3,2,1,1,1,3,2,2,2,2]\n",
    "frequent_element = max(set(list1), key=list1.count)\n",
    "print(frequent_element)"
   ]
  },
  {
   "cell_type": "code",
   "execution_count": 127,
   "metadata": {},
   "outputs": [],
   "source": [
    "# 16. Implement a stack using a list with push and pop operations."
   ]
  },
  {
   "cell_type": "code",
   "execution_count": 128,
   "metadata": {},
   "outputs": [
    {
     "name": "stdout",
     "output_type": "stream",
     "text": [
      "True\n"
     ]
    }
   ],
   "source": [
    "list1 = [1, 2, 3, 2, 1]\n",
    "def check_palindrome(list1):\n",
    "    return list1 == list1[::-1]\n",
    "print(check_palindrome(list1))"
   ]
  },
  {
   "cell_type": "code",
   "execution_count": 129,
   "metadata": {},
   "outputs": [],
   "source": [
    "# 18. Implement a queue using a list with enqueue and dequeue operations."
   ]
  },
  {
   "cell_type": "code",
   "execution_count": 130,
   "metadata": {},
   "outputs": [
    {
     "name": "stdout",
     "output_type": "stream",
     "text": [
      "{'a': 1, 'b': 2, 'c': 3}\n"
     ]
    }
   ],
   "source": [
    "list1 = [('a', 1), ('b', 2), ('c', 3)]\n",
    "dictionary = dict(list1)\n",
    "print(dictionary)"
   ]
  },
  {
   "cell_type": "code",
   "execution_count": 131,
   "metadata": {},
   "outputs": [
    {
     "name": "stdout",
     "output_type": "stream",
     "text": [
      "{4, 5}\n"
     ]
    }
   ],
   "source": [
    "list1 = [1, 2, 3, 4, 5]\n",
    "list2 = [4, 5, 6, 7, 8]\n",
    "common_elements = set(list1).intersection(list2)\n",
    "print(common_elements)"
   ]
  },
  {
   "cell_type": "markdown",
   "metadata": {},
   "source": [
    "## Topic 3: Text Processing Including Working with Text Files\n",
    "\n",
    "1. Write a program to read a text file and print its contents.\n",
    "2. Write a program to count the number of lines in a text file.\n",
    "3. Write a program to count the number of words in a text file.\n",
    "4. Write a program to count the number of characters in a text file.\n",
    "5. Write a program to find and print the longest word in a text file.\n",
    "6. Write a program to replace a word in a text file with another word.\n",
    "7. Write a program to append a line to a text file.\n",
    "8. Write a program to reverse the contents of a text file and write it to a new file.\n",
    "9. Write a program to find the frequency of each word in a text file.\n",
    "10. Write a program to read a text file and print only the lines that start with a specific letter.\n",
    "11. Write a program to create a new file that contains only unique words from a given text file.\n",
    "12. Write a program to merge the contents of two text files into a third file.\n",
    "13. Write a program to remove all punctuation from a text file and write the result to a new file.\n",
    "14. Write a program to count the occurrences of a specific word in a text file.\n",
    "15. Write a program to check if a specific word exists in a text file.\n",
    "16. Write a program to split a text file into multiple smaller files, each containing a fixed number of lines.\n",
    "17. Write a program to find all palindromic words in a text file.\n",
    "18. Write a program to sort the words in a text file alphabetically and save the result to a new file.\n",
    "19. Write a program to capitalize the first letter of every word in a text file.\n",
    "20. Write a program to remove duplicate lines from a text file and save the result to a new file."
   ]
  },
  {
   "cell_type": "code",
   "execution_count": 142,
   "metadata": {},
   "outputs": [
    {
     "name": "stdout",
     "output_type": "stream",
     "text": [
      "{\\rtf1\\ansi\\ansicpg1252\\cocoartf2820\n",
      "\\cocoatextscaling0\\cocoaplatform0{\\fonttbl\\f0\\fswiss\\fcharset0 Helvetica;}\n",
      "{\\colortbl;\\red255\\green255\\blue255;}\n",
      "{\\*\\expandedcolortbl;;}\n",
      "\\paperw11900\\paperh16840\\margl1440\\margr1440\\vieww11520\\viewh8400\\viewkind0\n",
      "\\pard\\tx720\\tx1440\\tx2160\\tx2880\\tx3600\\tx4320\\tx5040\\tx5760\\tx6480\\tx7200\\tx7920\\tx8640\\pardirnatural\\partightenfactor0\n",
      "\n",
      "\\f0\\fs24 \\cf0 Hello\\\n",
      "Carlota\\\n",
      "Goodbye\\\n",
      "Fernandez\\\n",
      "Uie\\\n",
      "2024\\\n",
      "2025\\\n",
      "Engendre\\\n",
      "Intelligent siystems}\n"
     ]
    }
   ],
   "source": [
    "def read_text_file(file_path):\n",
    "    with open(file_path, 'r') as file:\n",
    "        contents = file.read()\n",
    "        print(contents)\n",
    "\n",
    "read_text_file('text1.txt')"
   ]
  },
  {
   "cell_type": "code",
   "execution_count": 144,
   "metadata": {},
   "outputs": [
    {
     "name": "stdout",
     "output_type": "stream",
     "text": [
      "16\n"
     ]
    }
   ],
   "source": [
    "count_lines_text = open(\"text1.txt\", \"r\")\n",
    "line_count = 0\n",
    "for line in count_lines_text:\n",
    "    line_count += 1\n",
    "print(line_count)"
   ]
  },
  {
   "cell_type": "code",
   "execution_count": 145,
   "metadata": {},
   "outputs": [
    {
     "name": "stdout",
     "output_type": "stream",
     "text": [
      "19\n"
     ]
    }
   ],
   "source": [
    "count_words_text = open(\"text1.txt\", \"r\")\n",
    "word_count = 0\n",
    "for line in count_words_text:\n",
    "    words = line.split()\n",
    "    word_count += len(words)\n",
    "print(word_count)"
   ]
  },
  {
   "cell_type": "code",
   "execution_count": 146,
   "metadata": {},
   "outputs": [
    {
     "name": "stdout",
     "output_type": "stream",
     "text": [
      "455\n"
     ]
    }
   ],
   "source": [
    "count_characters_text = open(\"text1.txt\", \"r\")\n",
    "character_count = 0\n",
    "for line in count_characters_text:\n",
    "    characters = line.strip()\n",
    "    character_count += len(characters)\n",
    "print(character_count)"
   ]
  },
  {
   "cell_type": "code",
   "execution_count": 147,
   "metadata": {},
   "outputs": [
    {
     "name": "stdout",
     "output_type": "stream",
     "text": [
      "\\pard\\tx720\\tx1440\\tx2160\\tx2880\\tx3600\\tx4320\\tx5040\\tx5760\\tx6480\\tx7200\\tx7920\\tx8640\\pardirnatural\\partightenfactor0\n"
     ]
    }
   ],
   "source": [
    "longest_word_text = open(\"text1.txt\", \"r\")\n",
    "longest_word = \"\"\n",
    "for line in longest_word_text:\n",
    "    words = line.split()\n",
    "    for word in words:\n",
    "        if len(word) > len(longest_word):\n",
    "            longest_word = word\n",
    "print(longest_word)"
   ]
  },
  {
   "cell_type": "code",
   "execution_count": 148,
   "metadata": {},
   "outputs": [
    {
     "name": "stdout",
     "output_type": "stream",
     "text": [
      "{\\rtf1\\ansi\\ansicpg1252\\cocoartf2820\n",
      "\\cocoatextscaling0\\cocoaplatform0{\\fonttbl\\f0\\fswiss\\fcharset0 Helvetica;}\n",
      "{\\colortbl;\\red255\\green255\\blue255;}\n",
      "{\\*\\expandedcolortbl;;}\n",
      "\\paperw11900\\paperh16840\\margl1440\\margr1440\\vieww11520\\viewh8400\\viewkind0\n",
      "\\pard\\tx720\\tx1440\\tx2160\\tx2880\\tx3600\\tx4320\\tx5040\\tx5760\\tx6480\\tx7200\\tx7920\\tx8640\\pardirnatural\\partightenfactor0\n",
      "\n",
      "\\f0\\fs24 \\cf0 Hello\\\n",
      "Carlota\\\n",
      "Goodbye\\\n",
      "Fernandez\\\n",
      "Uie\\\n",
      "2024\\\n",
      "2025\\\n",
      "Engendre\\\n",
      "Intelligent siystems}\n"
     ]
    }
   ],
   "source": [
    "replace_word_text = open(\"text1.txt\", \"r\")\n",
    "new_word = \"\"\n",
    "for line in replace_word_text:\n",
    "    new_line = line.replace(\"old\", \"new\")\n",
    "    new_word += new_line\n",
    "print(new_word)"
   ]
  },
  {
   "cell_type": "code",
   "execution_count": 149,
   "metadata": {},
   "outputs": [
    {
     "name": "stdout",
     "output_type": "stream",
     "text": [
      "<_io.TextIOWrapper name='text1.txt' mode='a' encoding='UTF-8'>\n"
     ]
    }
   ],
   "source": [
    "append_line_text = open(\"text1.txt\", \"a\")\n",
    "append_line_text.write(\"This is a new line\")\n",
    "print(append_line_text)"
   ]
  },
  {
   "cell_type": "code",
   "execution_count": null,
   "metadata": {},
   "outputs": [],
   "source": [
    "11. Write a program to create a new file that contains only unique words from a given text file.\n",
    "12. Write a program to merge the contents of two text files into a third file.\n",
    "13. Write a program to remove all punctuation from a text file and write the result to a new file.\n",
    "14. Write a program to count the occurrences of a specific word in a text file.\n",
    "15. Write a program to check if a specific word exists in a text file.\n",
    "16. Write a program to split a text file into multiple smaller files, each containing a fixed number of lines.\n",
    "17. Write a program to find all palindromic words in a text file.\n",
    "18. Write a program to sort the words in a text file alphabetically and save the result to a new file.\n",
    "19. Write a program to capitalize the first letter of every word in a text file.\n",
    "20. Write a program to remove duplicate lines from a text file and save the result to a new file."
   ]
  },
  {
   "cell_type": "code",
   "execution_count": 150,
   "metadata": {},
   "outputs": [],
   "source": [
    "reverse_contentes_text = open(\"text1.txt\", \"r\")\n",
    "reverse_content = \"\"\n",
    "for line in reverse_contentes_text:\n",
    "    reverse_content = line + reverse_content\n",
    "with open(\"reversed_file.txt\", \"w\") as new_file:\n",
    "    new_file.write(reverse_content)"
   ]
  },
  {
   "cell_type": "code",
   "execution_count": 151,
   "metadata": {},
   "outputs": [
    {
     "name": "stdout",
     "output_type": "stream",
     "text": [
      "{'{\\\\rtf1\\\\ansi\\\\ansicpg1252\\\\cocoartf2820': 1, '\\\\cocoatextscaling0\\\\cocoaplatform0{\\\\fonttbl\\\\f0\\\\fswiss\\\\fcharset0': 1, 'Helvetica;}': 1, '{\\\\colortbl;\\\\red255\\\\green255\\\\blue255;}': 1, '{\\\\*\\\\expandedcolortbl;;}': 1, '\\\\paperw11900\\\\paperh16840\\\\margl1440\\\\margr1440\\\\vieww11520\\\\viewh8400\\\\viewkind0': 1, '\\\\pard\\\\tx720\\\\tx1440\\\\tx2160\\\\tx2880\\\\tx3600\\\\tx4320\\\\tx5040\\\\tx5760\\\\tx6480\\\\tx7200\\\\tx7920\\\\tx8640\\\\pardirnatural\\\\partightenfactor0': 1, '\\\\f0\\\\fs24': 1, '\\\\cf0': 1, 'Hello\\\\': 1, 'Carlota\\\\': 1, 'Goodbye\\\\': 1, 'Fernandez\\\\': 1, 'Uie\\\\': 1, '2024\\\\': 1, '2025\\\\': 1, 'Engendre\\\\': 1, 'Intelligent': 1, 'siystems}': 1}\n"
     ]
    }
   ],
   "source": [
    "find_frequency_text = open(\"text1.txt\", \"r\")\n",
    "word_count = {}\n",
    "for line in find_frequency_text:\n",
    "    words = line.split()\n",
    "    for word in words:\n",
    "        word_count[word] = word_count.get(word, 0) + 1\n",
    "print(word_count)"
   ]
  },
  {
   "cell_type": "code",
   "execution_count": 152,
   "metadata": {},
   "outputs": [
    {
     "name": "stdout",
     "output_type": "stream",
     "text": [
      "[]\n"
     ]
    }
   ],
   "source": [
    "read_file = open(\"text1.txt\", \"r\")\n",
    "specific_lines_letter = []\n",
    "for line in read_file:\n",
    "    if line.startswith(\"a\"):\n",
    "        specific_lines_letter.append(line)\n",
    "print(specific_lines_letter)"
   ]
  },
  {
   "cell_type": "markdown",
   "metadata": {},
   "source": [
    "## Topic 4: Pandas Usage Oriented Processing\n",
    "\n",
    "1. Create a DataFrame from a dictionary of lists and display it.\n",
    "2. Add a new column to an existing DataFrame based on calculations from other columns.\n",
    "3. Filter rows in a DataFrame based on a condition.\n",
    "4. Sort a DataFrame by a specific column in ascending order.\n",
    "5. Write a program to rename the columns of a DataFrame.\n",
    "6. Drop rows with missing values from a DataFrame.\n",
    "7. Write a program to fill missing values in a DataFrame with a default value.\n",
    "8. Group a DataFrame by a specific column and calculate the mean of each group.\n",
    "9. Write a program to merge two DataFrames on a common column.\n",
    "10. Write a program to concatenate two DataFrames vertically.\n",
    "11. Create a new column in a DataFrame that is the result of applying a custom function to an existing column.\n",
    "12. Write a program to count the unique values in a specific column of a DataFrame.\n",
    "13. Write a program to find the maximum value in a specific column of a DataFrame.\n",
    "14. Write a program to filter a DataFrame based on multiple conditions.\n",
    "15. Write a program to calculate the correlation matrix of a DataFrame.\n",
    "16. Write a program to apply a lambda function to every element of a column in a DataFrame.\n",
    "17. Write a program to drop duplicate rows from a DataFrame.\n",
    "18. Write a program to reset the index of a DataFrame.\n",
    "19. Write a program to save a DataFrame to a CSV file.\n",
    "20. Write a program to read a CSV file into a DataFrame and display the first five rows."
   ]
  },
  {
   "cell_type": "code",
   "execution_count": null,
   "metadata": {},
   "outputs": [],
   "source": []
  }
 ],
 "metadata": {
  "kernelspec": {
   "display_name": "uie-aa",
   "language": "python",
   "name": "python3"
  },
  "language_info": {
   "codemirror_mode": {
    "name": "ipython",
    "version": 3
   },
   "file_extension": ".py",
   "mimetype": "text/x-python",
   "name": "python",
   "nbconvert_exporter": "python",
   "pygments_lexer": "ipython3",
   "version": "3.11.9"
  }
 },
 "nbformat": 4,
 "nbformat_minor": 2
}

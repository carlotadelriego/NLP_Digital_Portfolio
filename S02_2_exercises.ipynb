{
 "cells": [
  {
   "cell_type": "markdown",
   "id": "080cade5",
   "metadata": {},
   "source": [
    "# Regular Expressions Exercises\n",
    "\n",
    "**Do not** use any AI help in solving it. "
   ]
  },
  {
   "cell_type": "markdown",
   "id": "1a55b260",
   "metadata": {},
   "source": [
    "### Exercise 0 (Example Solution)\n",
    "Find all occurrences of the word 'Python' (case-sensitive) in a given text."
   ]
  },
  {
   "cell_type": "code",
   "execution_count": null,
   "id": "daccef60",
   "metadata": {},
   "outputs": [],
   "source": [
    "import re\n",
    "text = 'I love Python because Python is amazing.'\n",
    "pattern = r'Python'\n",
    "matches = re.findall(pattern, text)\n",
    "print('Matches found:', matches)  # Expected output: ['Python', 'Python']"
   ]
  },
  {
   "cell_type": "markdown",
   "id": "414a4d0c",
   "metadata": {},
   "source": [
    "### Exercise 1\n",
    "Find all occurrences of the word 'Python' (case-sensitive) in a given text."
   ]
  },
  {
   "cell_type": "code",
   "execution_count": null,
   "id": "20ef5cea",
   "metadata": {},
   "outputs": [],
   "source": [
    "# Your solution here\n"
   ]
  },
  {
   "cell_type": "markdown",
   "id": "ba238748",
   "metadata": {},
   "source": [
    "### Exercise 2\n",
    "Find all sequences of digits in a text."
   ]
  },
  {
   "cell_type": "code",
   "execution_count": null,
   "id": "bbed1a1c",
   "metadata": {},
   "outputs": [],
   "source": [
    "# Your solution here\n"
   ]
  },
  {
   "cell_type": "markdown",
   "id": "4be8c3c0",
   "metadata": {},
   "source": [
    "### Exercise 3\n",
    "Extract all words that start with a capital letter."
   ]
  },
  {
   "cell_type": "code",
   "execution_count": null,
   "id": "8f17e6d5",
   "metadata": {},
   "outputs": [],
   "source": [
    "# Your solution here\n"
   ]
  },
  {
   "cell_type": "markdown",
   "id": "23eaa564",
   "metadata": {},
   "source": [
    "### Exercise 4\n",
    "Match all valid email addresses."
   ]
  },
  {
   "cell_type": "code",
   "execution_count": null,
   "id": "65011967",
   "metadata": {},
   "outputs": [],
   "source": [
    "# Your solution here\n"
   ]
  },
  {
   "cell_type": "markdown",
   "id": "4dd92f4c",
   "metadata": {},
   "source": [
    "### Exercise 5\n",
    "Find all words that contain at least one digit."
   ]
  },
  {
   "cell_type": "code",
   "execution_count": null,
   "id": "6b954be1",
   "metadata": {},
   "outputs": [],
   "source": [
    "# Your solution here\n"
   ]
  },
  {
   "cell_type": "markdown",
   "id": "e6b0495f",
   "metadata": {},
   "source": [
    "### Exercise 6\n",
    "Replace all instances of 'colour' with 'color'."
   ]
  },
  {
   "cell_type": "code",
   "execution_count": null,
   "id": "f18b5e0b",
   "metadata": {},
   "outputs": [],
   "source": [
    "# Your solution here\n"
   ]
  },
  {
   "cell_type": "markdown",
   "id": "1dec5414",
   "metadata": {},
   "source": [
    "### Exercise 7\n",
    "Extract all words that are exactly 5 letters long."
   ]
  },
  {
   "cell_type": "code",
   "execution_count": null,
   "id": "a8e56f29",
   "metadata": {},
   "outputs": [],
   "source": [
    "# Your solution here\n"
   ]
  },
  {
   "cell_type": "markdown",
   "id": "e8dab707",
   "metadata": {},
   "source": [
    "### Exercise 8\n",
    "Find all dates in the format DD/MM/YYYY or DD-MM-YYYY."
   ]
  },
  {
   "cell_type": "code",
   "execution_count": null,
   "id": "acb9d89a",
   "metadata": {},
   "outputs": [],
   "source": [
    "# Your solution here\n"
   ]
  },
  {
   "cell_type": "markdown",
   "id": "11000484",
   "metadata": {},
   "source": [
    "### Exercise 9\n",
    "Extract all hashtags from a tweet."
   ]
  },
  {
   "cell_type": "code",
   "execution_count": null,
   "id": "7c69bd3c",
   "metadata": {},
   "outputs": [],
   "source": [
    "# Your solution here\n"
   ]
  },
  {
   "cell_type": "markdown",
   "id": "6be1253f",
   "metadata": {},
   "source": [
    "### Exercise 10\n",
    "Match all words that do not contain vowels."
   ]
  },
  {
   "cell_type": "code",
   "execution_count": null,
   "id": "b7e7fb20",
   "metadata": {},
   "outputs": [],
   "source": [
    "# Your solution here\n"
   ]
  },
  {
   "cell_type": "markdown",
   "id": "86209e2f",
   "metadata": {},
   "source": [
    "### Exercise 11\n",
    "Find all words that start with 'pre' and are at least 6 characters long."
   ]
  },
  {
   "cell_type": "code",
   "execution_count": null,
   "id": "b8397027",
   "metadata": {},
   "outputs": [],
   "source": [
    "# Your solution here\n"
   ]
  },
  {
   "cell_type": "markdown",
   "id": "583eea14",
   "metadata": {},
   "source": [
    "### Exercise 12\n",
    "Validate a password with at least one uppercase, one lowercase, one digit, and at least 8 characters."
   ]
  },
  {
   "cell_type": "code",
   "execution_count": null,
   "id": "f34cc26d",
   "metadata": {},
   "outputs": [],
   "source": [
    "# Your solution here\n"
   ]
  },
  {
   "cell_type": "markdown",
   "id": "97538535",
   "metadata": {},
   "source": [
    "### Exercise 13\n",
    "Find all repeated words in a text (e.g., 'the the')."
   ]
  },
  {
   "cell_type": "code",
   "execution_count": null,
   "id": "df995e03",
   "metadata": {},
   "outputs": [],
   "source": [
    "# Your solution here\n"
   ]
  },
  {
   "cell_type": "markdown",
   "id": "48795d4b",
   "metadata": {},
   "source": [
    "### Exercise 14\n",
    "Extract all domain names from URLs."
   ]
  },
  {
   "cell_type": "code",
   "execution_count": null,
   "id": "d9100f6b",
   "metadata": {},
   "outputs": [],
   "source": [
    "# Your solution here\n"
   ]
  },
  {
   "cell_type": "markdown",
   "id": "e0df8900",
   "metadata": {},
   "source": [
    "### Exercise 15\n",
    "Validate a properly formatted IPv4 address."
   ]
  },
  {
   "cell_type": "code",
   "execution_count": null,
   "id": "3d10c972",
   "metadata": {},
   "outputs": [],
   "source": [
    "# Your solution here\n"
   ]
  },
  {
   "cell_type": "markdown",
   "id": "5ee9de3c",
   "metadata": {},
   "source": [
    "### Exercise 16\n",
    "Match all valid Twitter handles."
   ]
  },
  {
   "cell_type": "code",
   "execution_count": null,
   "id": "067273f2",
   "metadata": {},
   "outputs": [],
   "source": [
    "# Your solution here\n"
   ]
  },
  {
   "cell_type": "markdown",
   "id": "a52f75df",
   "metadata": {},
   "source": [
    "### Exercise 17\n",
    "Find all numbers written in words (e.g., 'one', 'two', 'three')."
   ]
  },
  {
   "cell_type": "code",
   "execution_count": null,
   "id": "e7921979",
   "metadata": {},
   "outputs": [],
   "source": [
    "# Your solution here\n"
   ]
  },
  {
   "cell_type": "markdown",
   "id": "8ef40dca",
   "metadata": {},
   "source": [
    "### Exercise 18\n",
    "Find all words that contain double letters."
   ]
  },
  {
   "cell_type": "code",
   "execution_count": null,
   "id": "98f58929",
   "metadata": {},
   "outputs": [],
   "source": [
    "# Your solution here\n"
   ]
  },
  {
   "cell_type": "markdown",
   "id": "927b93e2",
   "metadata": {},
   "source": [
    "### Exercise 19\n",
    "Extract quoted text from a sentence."
   ]
  },
  {
   "cell_type": "code",
   "execution_count": null,
   "id": "3ff0911d",
   "metadata": {},
   "outputs": [],
   "source": [
    "# Your solution here\n"
   ]
  },
  {
   "cell_type": "markdown",
   "id": "9d8c7695",
   "metadata": {},
   "source": [
    "### Exercise 20\n",
    "Match sentences ending with a question mark."
   ]
  },
  {
   "cell_type": "code",
   "execution_count": null,
   "id": "4435c171",
   "metadata": {},
   "outputs": [],
   "source": [
    "# Your solution here\n"
   ]
  }
 ],
 "metadata": {
  "language_info": {
   "name": "python"
  }
 },
 "nbformat": 4,
 "nbformat_minor": 5
}

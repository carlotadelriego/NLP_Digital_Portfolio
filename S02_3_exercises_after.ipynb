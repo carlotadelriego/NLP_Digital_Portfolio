{
 "cells": [
  {
   "cell_type": "markdown",
   "metadata": {},
   "source": [
    "# Exercises end\n",
    "\n",
    "Please solve this exercises using regular expressions. Do it **WITHOUT ANY AI HELP**."
   ]
  },
  {
   "cell_type": "code",
   "execution_count": 1,
   "metadata": {},
   "outputs": [
    {
     "name": "stdout",
     "output_type": "stream",
     "text": [
      "Matches found: ['hello', 'hi', 'aa']\n"
     ]
    }
   ],
   "source": [
    "# Exercise 1: Match a word containing only alphabets\n",
    "# Write a regex to match a word that contains only letters (uppercase or lowercase).\n",
    "import re\n",
    "exercise1 = 'hello bye11 hi aa ee22'\n",
    "pattern1 = re.findall(r'\\b[a-zA-Z]+\\b', exercise1)\n",
    "print('Matches found:', pattern1)"
   ]
  },
  {
   "cell_type": "code",
   "execution_count": 2,
   "metadata": {},
   "outputs": [
    {
     "name": "stdout",
     "output_type": "stream",
     "text": [
      "Matches found: ['333', '221']\n"
     ]
    }
   ],
   "source": [
    "# Exercise 2: Match a number with exactly 3 digits\n",
    "# Write a regex to match numbers with exactly 3 digits.\n",
    "exercise2 = '333 2738 289282 221 928389'\n",
    "pattern2 = re.findall(r'\\b\\d{3}\\b', exercise2)\n",
    "print('Matches found:', pattern2)"
   ]
  },
  {
   "cell_type": "code",
   "execution_count": 3,
   "metadata": {},
   "outputs": [
    {
     "name": "stdout",
     "output_type": "stream",
     "text": [
      "Matches found: ['example.com']\n"
     ]
    }
   ],
   "source": [
    "# Exercise 3: Extract the domain from an email\n",
    "# Extract the domain (e.g., \"example.com\") from an email address.\n",
    "exercise3 = 'example.com'\n",
    "pattern3 = re.findall(r'[a-zA-Z]+\\.[a-zA-Z]+', exercise3)\n",
    "print('Matches found:', pattern3)"
   ]
  },
  {
   "cell_type": "code",
   "execution_count": 4,
   "metadata": {},
   "outputs": [
    {
     "name": "stdout",
     "output_type": "stream",
     "text": [
      "Matches found: ['Always', 'a']\n"
     ]
    }
   ],
   "source": [
    "# Exercise 4: Find words starting with 'a'\n",
    "# Match all words that start with the letter 'a' in a given sentence.\n",
    "exercise4 = 'Always I read a book before going to sleep'\n",
    "pattern4 = re.findall(r'\\b[aA]\\w*', exercise4)\n",
    "print('Matches found:', pattern4)"
   ]
  },
  {
   "cell_type": "code",
   "execution_count": 5,
   "metadata": {},
   "outputs": [
    {
     "name": "stdout",
     "output_type": "stream",
     "text": [
      "Matches found: ['(123) 456-7890']\n"
     ]
    }
   ],
   "source": [
    "# Exercise 5: Validate a phone number\n",
    "# Validate phone numbers in the format (123) 456-7890.\n",
    "exercise5 = '(123) 456-7890'\n",
    "pattern5 = re.findall(r'\\(\\d{3}\\) \\d{3}-\\d{4}', exercise5)\n",
    "print('Matches found:', pattern5)"
   ]
  },
  {
   "cell_type": "code",
   "execution_count": 6,
   "metadata": {},
   "outputs": [
    {
     "name": "stdout",
     "output_type": "stream",
     "text": [
      "Matches found: ['2004-08-24']\n"
     ]
    }
   ],
   "source": [
    "# Exercise 6: Match dates in the format yyyy-mm-dd\n",
    "# Write a regex to validate dates in the format yyyy-mm-dd.\n",
    "exercise6 =  '2004-08-24'\n",
    "pattern6 = re.findall(r'\\d{4}-\\d{2}-\\d{2}', exercise6)\n",
    "print('Matches found:', pattern6)"
   ]
  },
  {
   "cell_type": "code",
   "execution_count": 7,
   "metadata": {},
   "outputs": [
    {
     "name": "stdout",
     "output_type": "stream",
     "text": [
      "Matches found: ['word']\n"
     ]
    }
   ],
   "source": [
    "# Exercise 7: Find repeated words\n",
    "# Identify words that appear consecutively (e.g., \"word word\").\n",
    "exercise7 = 'the word word apple is simple'\n",
    "pattern7 = re.findall(r'\\b(\\w+)\\s+\\1\\b', exercise7)\n",
    "print('Matches found:', pattern7)"
   ]
  },
  {
   "cell_type": "code",
   "execution_count": 8,
   "metadata": {},
   "outputs": [
    {
     "name": "stdout",
     "output_type": "stream",
     "text": [
      "Matches found: ['#Productivity', '#CoffeeLover', '#GoodMorning']\n"
     ]
    }
   ],
   "source": [
    "# Exercise 8: Extract hashtags from a tweet\n",
    "# Extract all hashtags from a given tweet.\n",
    "exercise8 = 'Enjoying a coffee while working on a new project. #Productivity #CoffeeLover #GoodMorning'\n",
    "pattern8 = re.findall(r'#\\w+', exercise8)\n",
    "print('Matches found:', pattern8)"
   ]
  },
  {
   "cell_type": "code",
   "execution_count": 9,
   "metadata": {},
   "outputs": [
    {
     "name": "stdout",
     "output_type": "stream",
     "text": [
      "Matches found: ['192.168.1.1']\n"
     ]
    }
   ],
   "source": [
    "### REVIEW\n",
    "\n",
    "# Exercise 9: Validate an IPv4 address\n",
    "# Write a regex to validate an IPv4 address (e.g., 192.168.1.1).\n",
    "exercise9 = '192.168.1.1'\n",
    "pattern9 = re.findall(r'\\d{3}+.\\d{3}+.\\d{1}+.\\d{1}', exercise9)\n",
    "print('Matches found:', pattern9)"
   ]
  },
  {
   "cell_type": "code",
   "execution_count": 10,
   "metadata": {},
   "outputs": [
    {
     "name": "stdout",
     "output_type": "stream",
     "text": [
      "Matches found: ['', '', '', '', '', '', '', '', '', '', '', '']\n"
     ]
    }
   ],
   "source": [
    "### REVIEW\n",
    "\n",
    "# Exercise 10: Match floating-point numbers\n",
    "# Write a regex to match floating-point numbers (e.g., 3.14, -2.71).\n",
    "exercise10 = '3.14, -2.71'\n",
    "pattern10 = re.findall(r'', exercise10)\n",
    "print('Matches found:', pattern10)"
   ]
  },
  {
   "cell_type": "code",
   "execution_count": 11,
   "metadata": {},
   "outputs": [
    {
     "name": "stdout",
     "output_type": "stream",
     "text": [
      "Matches found: []\n"
     ]
    }
   ],
   "source": [
    "#### REVIEW ###\n",
    "\n",
    "# Exercise 11: Validate a strong password\n",
    "# Validate a password with at least 8 characters, including one uppercase, one lowercase, one number, and one special character.\n",
    "exercise11 = ''\n",
    "pattern11 = re.findall(r'[a-z]+[A-Z]+[0-9]+[?|*|+|!]', exercise11)\n",
    "print('Matches found:', pattern11)"
   ]
  },
  {
   "cell_type": "code",
   "execution_count": 12,
   "metadata": {},
   "outputs": [
    {
     "name": "stdout",
     "output_type": "stream",
     "text": [
      "Matches found: []\n"
     ]
    }
   ],
   "source": [
    "# Exercise 12: Match a hexadecimal color code\n",
    "# Write a regex to match valid hexadecimal color codes (e.g., #FFFFFF, #abc123).\n",
    "exercise12 = '#FFFFFF, #abc123'\n",
    "pattern12 = re.findall(r'#\\[a-ZA-Z0-9_]+', exercise12)\n",
    "print('Matches found:', pattern12)"
   ]
  },
  {
   "cell_type": "code",
   "execution_count": 13,
   "metadata": {},
   "outputs": [
    {
     "name": "stdout",
     "output_type": "stream",
     "text": [
      "Matches found: ['']\n"
     ]
    }
   ],
   "source": [
    "# Exercise 13: Extract text inside quotes\n",
    "# Extract text enclosed within double quotation marks.\n",
    "exercise13 = ''\n",
    "pattern13 =  re.findall(r'', exercise13)\n",
    "print('Matches found:', pattern13)"
   ]
  },
  {
   "cell_type": "code",
   "execution_count": 14,
   "metadata": {},
   "outputs": [
    {
     "name": "stdout",
     "output_type": "stream",
     "text": [
      "Matches found: []\n"
     ]
    }
   ],
   "source": [
    "# Exercise 14: Match HTML tags\n",
    "# Write a regex to match opening HTML tags (e.g., <div>, <a>, <span>).\n",
    "exercise14 = ''\n",
    "pattern14 = re.findall(r's/([0-9]+)/<\\[a-z]>/', exercise14)\n",
    "print('Matches found:', pattern14)"
   ]
  },
  {
   "cell_type": "code",
   "execution_count": 15,
   "metadata": {},
   "outputs": [
    {
     "name": "stdout",
     "output_type": "stream",
     "text": [
      "Matches found: ['23:59']\n"
     ]
    }
   ],
   "source": [
    "# Exercise 15: Match time in HH:MM 24-hour format\n",
    "# Write a regex to validate time in the 24-hour format (e.g., 23:59).\n",
    "exercise15 = '23:59'\n",
    "pattern15 = re.findall(r'\\d{2}+:\\d{2}', exercise15)\n",
    "print('Matches found:', pattern15)"
   ]
  },
  {
   "cell_type": "code",
   "execution_count": 16,
   "metadata": {},
   "outputs": [
    {
     "name": "stdout",
     "output_type": "stream",
     "text": [
      "Matches found: ['.txt', '.png']\n"
     ]
    }
   ],
   "source": [
    "# Exercise 16: Extract file extensions\n",
    "# Extract the file extension (e.g., .txt, .png) from a filename.\n",
    "exercise16 = '.txt, .png'\n",
    "pattern16 = re.findall(r'\\.[a-z]+', exercise16)\n",
    "print('Matches found:', pattern16)"
   ]
  },
  {
   "cell_type": "code",
   "execution_count": 17,
   "metadata": {},
   "outputs": [
    {
     "name": "stdout",
     "output_type": "stream",
     "text": [
      "Matches found: []\n"
     ]
    }
   ],
   "source": [
    "# Exercise 17: Validate a URL\n",
    "# Write a regex to validate a URL (e.g., https://www.example.com).\n",
    "exercise17 = ''\n",
    "pattern17 = re.findall(r'\\D{5}+[^\\w]+//+[^0-9]{3}+[a-z]+\\.[a-z]{3}+', exercise17)\n",
    "print('Matches found:', pattern17)"
   ]
  },
  {
   "cell_type": "code",
   "execution_count": 18,
   "metadata": {},
   "outputs": [
    {
     "name": "stdout",
     "output_type": "stream",
     "text": [
      "Matches found: ['']\n"
     ]
    }
   ],
   "source": [
    "# Exercise 18: Extract vowels from a sentence\n",
    "# Extract all vowels from a given sentence.\n",
    "exercise18 = ''\n",
    "pattern18 = re.findall(r'', exercise18)\n",
    "print('Matches found:', pattern18)"
   ]
  },
  {
   "cell_type": "code",
   "execution_count": 19,
   "metadata": {},
   "outputs": [],
   "source": [
    "# Exercise 19: Match binary numbers\n",
    "# Write a regex to match valid binary numbers (e.g., 1010, 111).\n",
    "exercise19 =  '1010, 111'\n",
    "pattern19 = re.findall(r'\\d{4}', exercise19)\n",
    "print = ('Matches found:', pattern19)"
   ]
  },
  {
   "cell_type": "code",
   "execution_count": 20,
   "metadata": {},
   "outputs": [
    {
     "ename": "TypeError",
     "evalue": "'tuple' object is not callable",
     "output_type": "error",
     "traceback": [
      "\u001b[0;31m---------------------------------------------------------------------------\u001b[0m",
      "\u001b[0;31mTypeError\u001b[0m                                 Traceback (most recent call last)",
      "Cell \u001b[0;32mIn[20], line 5\u001b[0m\n\u001b[1;32m      3\u001b[0m exercise20 \u001b[38;5;241m=\u001b[39m \u001b[38;5;124m'\u001b[39m\u001b[38;5;124m'\u001b[39m\n\u001b[1;32m      4\u001b[0m pattern20 \u001b[38;5;241m=\u001b[39m re\u001b[38;5;241m.\u001b[39mfindall(\u001b[38;5;124mr\u001b[39m\u001b[38;5;124m'\u001b[39m\u001b[38;5;124m'\u001b[39m, exercise20)\n\u001b[0;32m----> 5\u001b[0m \u001b[38;5;28;43mprint\u001b[39;49m\u001b[43m(\u001b[49m\u001b[38;5;124;43m'\u001b[39;49m\u001b[38;5;124;43mMatches found:\u001b[39;49m\u001b[38;5;124;43m'\u001b[39;49m\u001b[43m,\u001b[49m\u001b[43m \u001b[49m\u001b[43mpattern20\u001b[49m\u001b[43m)\u001b[49m\n",
      "\u001b[0;31mTypeError\u001b[0m: 'tuple' object is not callable"
     ]
    }
   ],
   "source": [
    "# Exercise 20: Find overlapping patterns\n",
    "# Write a regex to find overlapping occurrences of \"ab\" in a string (e.g., in \"abab\", match both \"ab\"s).\n",
    "exercise20 = ''\n",
    "pattern20 = re.findall(r'', exercise20)\n",
    "print('Matches found:', pattern20)"
   ]
  }
 ],
 "metadata": {
  "kernelspec": {
   "display_name": "Python 3",
   "language": "python",
   "name": "python3"
  },
  "language_info": {
   "codemirror_mode": {
    "name": "ipython",
    "version": 3
   },
   "file_extension": ".py",
   "mimetype": "text/x-python",
   "name": "python",
   "nbconvert_exporter": "python",
   "pygments_lexer": "ipython3",
   "version": "3.11.9"
  }
 },
 "nbformat": 4,
 "nbformat_minor": 2
}
